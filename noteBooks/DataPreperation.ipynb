{
 "cells": [
  {
   "cell_type": "code",
   "execution_count": 2,
   "outputs": [],
   "source": [
    "import pandas as pd"
   ],
   "metadata": {
    "collapsed": false
   }
  },
  {
   "cell_type": "code",
   "execution_count": 3,
   "metadata": {
    "collapsed": true
   },
   "outputs": [],
   "source": [
    "f = open(\"data/aves-songbird-social.edges\")\n",
    "initPoints = []\n",
    "finalPoints = []\n",
    "weights = []\n",
    "s = f.readline()\n",
    "while s != \"\":\n",
    "    initPoint,finalPoint,weight = s.split(\" \")\n",
    "\n",
    "    initPoints.append(int(initPoint))\n",
    "    finalPoints.append((int(finalPoint)))\n",
    "    weights.append(float(weight))\n",
    "\n",
    "    s = f.readline()"
   ]
  },
  {
   "cell_type": "code",
   "execution_count": 4,
   "outputs": [],
   "source": [
    "df = pd.DataFrame(list(zip(initPoints, finalPoints,weights)),\n",
    "               columns =['initPoint', 'finalPoint','weight'])"
   ],
   "metadata": {
    "collapsed": false
   }
  },
  {
   "cell_type": "code",
   "execution_count": 5,
   "outputs": [],
   "source": [
    "df.to_csv(\"./data.csv\",index=None)"
   ],
   "metadata": {
    "collapsed": false
   }
  }
 ],
 "metadata": {
  "kernelspec": {
   "display_name": "Python 3",
   "language": "python",
   "name": "python3"
  },
  "language_info": {
   "codemirror_mode": {
    "name": "ipython",
    "version": 2
   },
   "file_extension": ".py",
   "mimetype": "text/x-python",
   "name": "python",
   "nbconvert_exporter": "python",
   "pygments_lexer": "ipython2",
   "version": "2.7.6"
  }
 },
 "nbformat": 4,
 "nbformat_minor": 0
}
