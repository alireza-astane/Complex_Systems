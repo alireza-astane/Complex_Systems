{
 "cells": [
  {
   "cell_type": "code",
   "execution_count": 116,
   "metadata": {
    "collapsed": true
   },
   "outputs": [],
   "source": [
    "import numpy as np\n",
    "import pandas as pd\n",
    "from pyvis.network import Network\n",
    "import networkx as nx"
   ]
  },
  {
   "cell_type": "code",
   "execution_count": 102,
   "outputs": [],
   "source": [
    "df = pd.read_csv(\"./data.csv\")"
   ],
   "metadata": {
    "collapsed": false
   }
  },
  {
   "cell_type": "code",
   "execution_count": 103,
   "outputs": [],
   "source": [
    "network = nx.from_pandas_edgelist(df,source=\"initPoint\",target=\"finalPoint\",edge_attr=\"weight\")"
   ],
   "metadata": {
    "collapsed": false
   }
  },
  {
   "cell_type": "code",
   "execution_count": 104,
   "outputs": [],
   "source": [
    "graph = Network()"
   ],
   "metadata": {
    "collapsed": false
   }
  },
  {
   "cell_type": "code",
   "execution_count": 105,
   "outputs": [],
   "source": [
    "graph.from_nx(network)"
   ],
   "metadata": {
    "collapsed": false
   }
  },
  {
   "cell_type": "code",
   "execution_count": 106,
   "outputs": [
    {
     "name": "stdout",
     "output_type": "stream",
     "text": [
      "graph.html\n"
     ]
    }
   ],
   "source": [
    "graph.show(\"graph.html\",notebook=False)"
   ],
   "metadata": {
    "collapsed": false
   }
  },
  {
   "cell_type": "code",
   "execution_count": 107,
   "outputs": [
    {
     "data": {
      "text/plain": "0.17130942452043368"
     },
     "execution_count": 107,
     "metadata": {},
     "output_type": "execute_result"
    }
   ],
   "source": [
    "density= nx.density(network)\n",
    "density"
   ],
   "metadata": {
    "collapsed": false
   }
  },
  {
   "cell_type": "code",
   "execution_count": 108,
   "outputs": [
    {
     "data": {
      "text/plain": "0.5583330251821174"
     },
     "execution_count": 108,
     "metadata": {},
     "output_type": "execute_result"
    }
   ],
   "source": [
    "transitivity= nx.transitivity(network)\n",
    "transitivity"
   ],
   "metadata": {
    "collapsed": false
   }
  },
  {
   "cell_type": "code",
   "execution_count": 109,
   "outputs": [
    {
     "data": {
      "text/plain": "0.642906451933928"
     },
     "execution_count": 109,
     "metadata": {},
     "output_type": "execute_result"
    }
   ],
   "source": [
    "average_clustering = nx.cluster.average_clustering(network)\n",
    "average_clustering"
   ],
   "metadata": {
    "collapsed": false
   }
  },
  {
   "cell_type": "code",
   "execution_count": 110,
   "outputs": [
    {
     "data": {
      "text/plain": "0.00026568257568410346"
     },
     "execution_count": 110,
     "metadata": {},
     "output_type": "execute_result"
    }
   ],
   "source": [
    "degree_assortativity_coefficient= nx.assortativity.degree_assortativity_coefficient(network)\n",
    "degree_assortativity_coefficient"
   ],
   "metadata": {
    "collapsed": false
   }
  },
  {
   "cell_type": "code",
   "execution_count": 135,
   "outputs": [],
   "source": [
    "betweenness_centrality = nx.centrality.betweenness_centrality(network)"
   ],
   "metadata": {
    "collapsed": false
   }
  },
  {
   "cell_type": "code",
   "execution_count": 132,
   "outputs": [],
   "source": [
    "normalized_betweenness_centrality = betweenness_centrality.copy()\n",
    "mean = np.mean(list(betweenness_centrality.values()))\n",
    "normalized_betweenness_centrality.update((x, 10*y/mean) for x, y in normalized_betweenness_centrality.items())"
   ],
   "metadata": {
    "collapsed": false
   }
  },
  {
   "cell_type": "code",
   "execution_count": 134,
   "outputs": [
    {
     "name": "stdout",
     "output_type": "stream",
     "text": [
      "betweennessCenteralityGraph.html\n"
     ]
    }
   ],
   "source": [
    "betweennessCenteralityGraph = Network()\n",
    "nx.set_node_attributes(network,normalized_betweenness_centrality,'size')\n",
    "betweennessCenteralityGraph.from_nx(network)\n",
    "betweennessCenteralityGraph.show(\"betweennessCenteralityGraph.html\",notebook=False)"
   ],
   "metadata": {
    "collapsed": false
   }
  },
  {
   "cell_type": "code",
   "execution_count": 154,
   "outputs": [],
   "source": [
    "eigenvector_centrality = nx.eigenvector_centrality(network)"
   ],
   "metadata": {
    "collapsed": false
   }
  },
  {
   "cell_type": "code",
   "execution_count": 155,
   "outputs": [],
   "source": [
    "normalized_eigenvector_centrality = eigenvector_centrality.copy()\n",
    "mean = np.mean(list(eigenvector_centrality.values()))\n",
    "normalized_eigenvector_centrality.update((x, 10*y/mean) for x, y in eigenvector_centrality.items())"
   ],
   "metadata": {
    "collapsed": false
   }
  },
  {
   "cell_type": "code",
   "execution_count": 157,
   "outputs": [
    {
     "name": "stdout",
     "output_type": "stream",
     "text": [
      "eigenvector_centralityGraph.html\n"
     ]
    }
   ],
   "source": [
    "eigenvector_centralityGraph = Network()\n",
    "nx.set_node_attributes(network,normalized_eigenvector_centrality,'size')\n",
    "eigenvector_centralityGraph.from_nx(network)\n",
    "eigenvector_centralityGraph.show(\"eigenvector_centralityGraph.html\",notebook=False)"
   ],
   "metadata": {
    "collapsed": false
   }
  },
  {
   "cell_type": "code",
   "execution_count": 115,
   "outputs": [
    {
     "name": "stdout",
     "output_type": "stream",
     "text": [
      "degreeGraph.html\n"
     ]
    }
   ],
   "source": [
    "degree = dict(network.degree)\n",
    "degree.values()\n",
    "\n",
    "degreeGraph = Network()\n",
    "nx.set_node_attributes(network,degree,'size')\n",
    "degreeGraph.from_nx(network)\n",
    "degreeGraph.show(\"degreeGraph.html\",notebook=False)"
   ],
   "metadata": {
    "collapsed": false
   }
  },
  {
   "cell_type": "code",
   "execution_count": 162,
   "outputs": [],
   "source": [
    "triangles = nx.triangles(network)"
   ],
   "metadata": {
    "collapsed": false
   }
  },
  {
   "cell_type": "code",
   "execution_count": 163,
   "outputs": [],
   "source": [
    "normalized_triangles = triangles.copy()\n",
    "mean = np.mean(list(triangles.values()))\n",
    "normalized_triangles.update((x, 10*y/mean) for x, y in triangles.items())"
   ],
   "metadata": {
    "collapsed": false
   }
  },
  {
   "cell_type": "code",
   "execution_count": 164,
   "outputs": [
    {
     "name": "stdout",
     "output_type": "stream",
     "text": [
      "trianglesGraph.html\n"
     ]
    }
   ],
   "source": [
    "trianglesGraph = Network()\n",
    "nx.set_node_attributes(network,normalized_triangles,'size')\n",
    "trianglesGraph.from_nx(network)\n",
    "trianglesGraph.show(\"trianglesGraph.html\",notebook=False)"
   ],
   "metadata": {
    "collapsed": false
   }
  },
  {
   "cell_type": "code",
   "execution_count": 165,
   "outputs": [],
   "source": [
    "cliques = {n: sum(1 for c in nx.find_cliques(network) if n in c) for n in network}"
   ],
   "metadata": {
    "collapsed": false
   }
  },
  {
   "cell_type": "code",
   "execution_count": 167,
   "outputs": [],
   "source": [
    "normalized_cliques = cliques.copy()\n",
    "mean = np.mean(list(cliques.values()))\n",
    "normalized_cliques.update((x, 10*y/mean) for x, y in cliques.items())"
   ],
   "metadata": {
    "collapsed": false
   }
  },
  {
   "cell_type": "code",
   "execution_count": 168,
   "outputs": [
    {
     "name": "stdout",
     "output_type": "stream",
     "text": [
      "cliquesGraph.html\n"
     ]
    }
   ],
   "source": [
    "cliquesGraph = Network()\n",
    "nx.set_node_attributes(network,normalized_cliques,'size')\n",
    "cliquesGraph.from_nx(network)\n",
    "cliquesGraph.show(\"cliquesGraph.html\",notebook=False)"
   ],
   "metadata": {
    "collapsed": false
   }
  },
  {
   "cell_type": "code",
   "execution_count": 169,
   "outputs": [
    {
     "data": {
      "text/plain": "{43: 27.085271317829456,\n 41: 28.21951219512195,\n 28: 25.946428571428573,\n 24: 27.98611111111111,\n 14: 32.404761904761905,\n 29: 25.67816091954023,\n 56: 25.5,\n 40: 28.6,\n 30: 26.377777777777776,\n 13: 27.63736263736264,\n 21: 22.69047619047619,\n 33: 30.242424242424242,\n 19: 27.07017543859649,\n 35: 30.142857142857142,\n 22: 25.011363636363637,\n 38: 29.605263157894736,\n 31: 28.29032258064516,\n 23: 32.08695652173913,\n 44: 27.234848484848484,\n 27: 28.74074074074074,\n 18: 28.38888888888889,\n 11: 31.113636363636363,\n 17: 23.41176470588235,\n 39: 28.205128205128204,\n 12: 37.208333333333336,\n 26: 28.16923076923077,\n 25: 24.37,\n 15: 27.68888888888889,\n 20: 26.75,\n 3: 26.333333333333332,\n 7: 28.892857142857142,\n 10: 33.05,\n 4: 22.75,\n 2: 30.5,\n 5: 24.12,\n 6: 21.61111111111111,\n 1: 9.833333333333334}"
     },
     "execution_count": 169,
     "metadata": {},
     "output_type": "execute_result"
    }
   ],
   "source": [
    "average_degree_connectivity = nx.assortativity.average_degree_connectivity(network)\n",
    "average_degree_connectivity"
   ],
   "metadata": {
    "collapsed": false
   }
  },
  {
   "cell_type": "code",
   "execution_count": 170,
   "outputs": [
    {
     "name": "stdout",
     "output_type": "stream",
     "text": [
      "average_degree_connectivityGraph.html\n"
     ]
    }
   ],
   "source": [
    "average_degree_connectivityGraph = Network()\n",
    "nx.set_node_attributes(network,average_degree_connectivity,'size')\n",
    "average_degree_connectivityGraph.from_nx(network)\n",
    "average_degree_connectivityGraph.show(\"average_degree_connectivityGraph.html\",notebook=False)"
   ],
   "metadata": {
    "collapsed": false
   }
  },
  {
   "cell_type": "code",
   "execution_count": 93,
   "outputs": [
    {
     "name": "stdout",
     "output_type": "stream",
     "text": [
      "kCoreGraph.html\n"
     ]
    }
   ],
   "source": [
    "kCoreGraph = Network()\n",
    "kCoreGraph.from_nx(nx.k_core(network,k=3))\n",
    "kCoreGraph.show(\"kCoreGraph.html\",notebook=False)"
   ],
   "metadata": {
    "collapsed": false
   }
  },
  {
   "cell_type": "code",
   "execution_count": 114,
   "outputs": [
    {
     "data": {
      "text/plain": "0"
     },
     "execution_count": 114,
     "metadata": {},
     "output_type": "execute_result"
    }
   ],
   "source": [
    "kCoreGraph = Network()\n",
    "kCoreGraph.from_nx(nx.k_core(network,k=18)) #So 18 is the maximum K Core\n",
    "len(kCoreGraph.nodes)"
   ],
   "metadata": {
    "collapsed": false
   }
  },
  {
   "cell_type": "code",
   "execution_count": 38,
   "outputs": [
    {
     "data": {
      "text/plain": "117"
     },
     "execution_count": 38,
     "metadata": {},
     "output_type": "execute_result"
    }
   ],
   "source": [
    "MaximumDegree = max(dict(network.degree).keys())\n",
    "MaximumDegree"
   ],
   "metadata": {
    "collapsed": false
   }
  },
  {
   "cell_type": "code",
   "execution_count": 39,
   "outputs": [
    {
     "data": {
      "text/plain": "1"
     },
     "execution_count": 39,
     "metadata": {},
     "output_type": "execute_result"
    }
   ],
   "source": [
    "MinimumDegree = min(dict(network.degree).keys())\n",
    "MinimumDegree"
   ],
   "metadata": {
    "collapsed": false
   }
  },
  {
   "cell_type": "code",
   "execution_count": 45,
   "outputs": [
    {
     "data": {
      "text/plain": "59.663636363636364"
     },
     "execution_count": 45,
     "metadata": {},
     "output_type": "execute_result"
    }
   ],
   "source": [
    "Average_number_of_triangles = np.mean(list(nx.triangles(network).keys()))\n",
    "Average_number_of_triangles"
   ],
   "metadata": {
    "collapsed": false
   }
  },
  {
   "cell_type": "code",
   "execution_count": 42,
   "outputs": [
    {
     "data": {
      "text/plain": "117"
     },
     "execution_count": 42,
     "metadata": {},
     "output_type": "execute_result"
    }
   ],
   "source": [
    "Maximum_number_of_triangles = max(nx.triangles(network).keys())\n",
    "Maximum_number_of_triangles"
   ],
   "metadata": {
    "collapsed": false
   }
  },
  {
   "cell_type": "code",
   "execution_count": 29,
   "outputs": [
    {
     "data": {
      "text/plain": "array([[0, 1, 1, ..., 0, 0, 0],\n       [1, 0, 1, ..., 0, 0, 0],\n       [1, 1, 0, ..., 0, 0, 0],\n       ...,\n       [0, 0, 0, ..., 0, 0, 0],\n       [0, 0, 0, ..., 0, 0, 0],\n       [0, 0, 0, ..., 0, 0, 0]], dtype=int32)"
     },
     "execution_count": 29,
     "metadata": {},
     "output_type": "execute_result"
    }
   ],
   "source": [
    "nx.adjacency_matrix(network).toarray()"
   ],
   "metadata": {
    "collapsed": false
   }
  },
  {
   "cell_type": "code",
   "execution_count": 32,
   "outputs": [
    {
     "data": {
      "text/plain": "array([[1., 1., 1., ..., 0., 0., 0.],\n       [1., 0., 0., ..., 0., 0., 0.],\n       [0., 1., 0., ..., 0., 0., 0.],\n       ...,\n       [0., 0., 0., ..., 0., 0., 0.],\n       [0., 0., 0., ..., 0., 0., 0.],\n       [0., 0., 0., ..., 0., 0., 0.]])"
     },
     "execution_count": 32,
     "metadata": {},
     "output_type": "execute_result"
    }
   ],
   "source": [
    "nx.incidence_matrix(network).toarray()"
   ],
   "metadata": {
    "collapsed": false
   }
  },
  {
   "cell_type": "code",
   "execution_count": 205,
   "outputs": [],
   "source": [
    "coreColorDict = {x:0 for x in list(network.nodes)}"
   ],
   "metadata": {
    "collapsed": false
   }
  },
  {
   "cell_type": "code",
   "execution_count": 206,
   "outputs": [],
   "source": [
    "for k in range(1,19):\n",
    "    kCoreGraph = Network()\n",
    "    kCoreGraph.from_nx(nx.k_core(network,k=k))\n",
    "    for node in kCoreGraph.nodes:\n",
    "        coreColorDict[node.get(\"id\")] += 1\n",
    "\n"
   ],
   "metadata": {
    "collapsed": false
   }
  },
  {
   "cell_type": "code",
   "execution_count": 207,
   "outputs": [
    {
     "name": "stdout",
     "output_type": "stream",
     "text": [
      "coreColorDictGraph.html\n"
     ]
    }
   ],
   "source": [
    "coreColorDictGraph = Network()\n",
    "nx.set_node_attributes(network,coreColorDict,'size')\n",
    "coreColorDictGraph.from_nx(network)\n",
    "coreColorDictGraph.show(\"coreColorDictGraph.html\",notebook=False)"
   ],
   "metadata": {
    "collapsed": false
   }
  }
 ],
 "metadata": {
  "kernelspec": {
   "display_name": "Python 3",
   "language": "python",
   "name": "python3"
  },
  "language_info": {
   "codemirror_mode": {
    "name": "ipython",
    "version": 2
   },
   "file_extension": ".py",
   "mimetype": "text/x-python",
   "name": "python",
   "nbconvert_exporter": "python",
   "pygments_lexer": "ipython2",
   "version": "2.7.6"
  }
 },
 "nbformat": 4,
 "nbformat_minor": 0
}
